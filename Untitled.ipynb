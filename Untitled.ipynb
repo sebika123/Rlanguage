{
 "cells": [
  {
   "cell_type": "markdown",
   "id": "5fd5e03a",
   "metadata": {},
   "source": [
    "this is empty cell"
   ]
  },
  {
   "cell_type": "code",
   "execution_count": 25,
   "id": "b63fdfd6",
   "metadata": {},
   "outputs": [],
   "source": [
    "import numpy as np"
   ]
  },
  {
   "cell_type": "code",
   "execution_count": 30,
   "id": "f8252eb8",
   "metadata": {},
   "outputs": [],
   "source": [
    "p1=np.array([1,2,3,4])"
   ]
  },
  {
   "cell_type": "code",
   "execution_count": 31,
   "id": "afa95244",
   "metadata": {},
   "outputs": [
    {
     "data": {
      "text/plain": [
       "array([1, 2, 3, 4])"
      ]
     },
     "execution_count": 31,
     "metadata": {},
     "output_type": "execute_result"
    }
   ],
   "source": [
    "p1\n"
   ]
  },
  {
   "cell_type": "code",
   "execution_count": 32,
   "id": "d0418189",
   "metadata": {},
   "outputs": [
    {
     "data": {
      "text/plain": [
       "numpy.ndarray"
      ]
     },
     "execution_count": 32,
     "metadata": {},
     "output_type": "execute_result"
    }
   ],
   "source": [
    "type(p1)"
   ]
  },
  {
   "cell_type": "code",
   "execution_count": 33,
   "id": "5141e601",
   "metadata": {},
   "outputs": [],
   "source": [
    "Mat1=np.array([[1,2],[3,4]])"
   ]
  },
  {
   "cell_type": "code",
   "execution_count": 34,
   "id": "9a52a9b7",
   "metadata": {},
   "outputs": [
    {
     "data": {
      "text/plain": [
       "array([[1, 2],\n",
       "       [3, 4]])"
      ]
     },
     "execution_count": 34,
     "metadata": {},
     "output_type": "execute_result"
    }
   ],
   "source": [
    "Mat1"
   ]
  },
  {
   "cell_type": "markdown",
   "id": "d0167db4",
   "metadata": {},
   "source": [
    "import panda as pd"
   ]
  },
  {
   "cell_type": "code",
   "execution_count": 2,
   "id": "ac2b8cd8",
   "metadata": {},
   "outputs": [
    {
     "ename": "ModuleNotFoundError",
     "evalue": "No module named 'panda'",
     "output_type": "error",
     "traceback": [
      "\u001b[1;31m---------------------------------------------------------------------------\u001b[0m",
      "\u001b[1;31mModuleNotFoundError\u001b[0m                       Traceback (most recent call last)",
      "Cell \u001b[1;32mIn[2], line 1\u001b[0m\n\u001b[1;32m----> 1\u001b[0m \u001b[38;5;28;01mimport\u001b[39;00m \u001b[38;5;21;01mpanda\u001b[39;00m \u001b[38;5;28;01mas\u001b[39;00m \u001b[38;5;21;01mpd\u001b[39;00m\n",
      "\u001b[1;31mModuleNotFoundError\u001b[0m: No module named 'panda'"
     ]
    }
   ],
   "source": [
    "import pandas as pd"
   ]
  },
  {
   "cell_type": "code",
   "execution_count": null,
   "id": "c1ce8b36",
   "metadata": {},
   "outputs": [],
   "source": [
    "import seaborn as sns\n"
   ]
  },
  {
   "cell_type": "code",
   "execution_count": null,
   "id": "b77ae90b",
   "metadata": {},
   "outputs": [],
   "source": []
  },
  {
   "cell_type": "code",
   "execution_count": null,
   "id": "eabfccc9",
   "metadata": {},
   "outputs": [],
   "source": [
    "sns.displot(data)"
   ]
  },
  {
   "cell_type": "code",
   "execution_count": 2,
   "id": "95fea2c1",
   "metadata": {},
   "outputs": [],
   "source": [
    "from sklearn.datasets import load_iris\n",
    "iris=load_iris"
   ]
  },
  {
   "cell_type": "code",
   "execution_count": 3,
   "id": "2e8a0d97",
   "metadata": {},
   "outputs": [
    {
     "data": {
      "text/plain": [
       "<function sklearn.datasets._base.load_iris(*, return_X_y=False, as_frame=False)>"
      ]
     },
     "execution_count": 3,
     "metadata": {},
     "output_type": "execute_result"
    }
   ],
   "source": [
    "iris"
   ]
  },
  {
   "cell_type": "code",
   "execution_count": 4,
   "id": "b13a5752",
   "metadata": {},
   "outputs": [
    {
     "data": {
      "text/plain": [
       "<function sklearn.datasets._base.load_iris(*, return_X_y=False, as_frame=False)>"
      ]
     },
     "execution_count": 4,
     "metadata": {},
     "output_type": "execute_result"
    }
   ],
   "source": [
    "iris"
   ]
  },
  {
   "cell_type": "code",
   "execution_count": 5,
   "id": "231333dc",
   "metadata": {},
   "outputs": [
    {
     "ename": "AttributeError",
     "evalue": "'function' object has no attribute 'data'",
     "output_type": "error",
     "traceback": [
      "\u001b[1;31m---------------------------------------------------------------------------\u001b[0m",
      "\u001b[1;31mAttributeError\u001b[0m                            Traceback (most recent call last)",
      "Cell \u001b[1;32mIn[5], line 1\u001b[0m\n\u001b[1;32m----> 1\u001b[0m X\u001b[38;5;241m=\u001b[39miris\u001b[38;5;241m.\u001b[39mdata[:,(\u001b[38;5;241m2\u001b[39m,\u001b[38;5;241m3\u001b[39m)]\n",
      "\u001b[1;31mAttributeError\u001b[0m: 'function' object has no attribute 'data'"
     ]
    }
   ],
   "source": [
    "X=iris.data[:,(2,3)]\n"
   ]
  },
  {
   "cell_type": "code",
   "execution_count": 6,
   "id": "993fc06c",
   "metadata": {},
   "outputs": [
    {
     "ename": "AttributeError",
     "evalue": "'function' object has no attribute 'target'",
     "output_type": "error",
     "traceback": [
      "\u001b[1;31m---------------------------------------------------------------------------\u001b[0m",
      "\u001b[1;31mAttributeError\u001b[0m                            Traceback (most recent call last)",
      "Cell \u001b[1;32mIn[6], line 1\u001b[0m\n\u001b[1;32m----> 1\u001b[0m iris\u001b[38;5;241m.\u001b[39mtarget\n",
      "\u001b[1;31mAttributeError\u001b[0m: 'function' object has no attribute 'target'"
     ]
    }
   ],
   "source": [
    "iris.target"
   ]
  },
  {
   "cell_type": "code",
   "execution_count": 12,
   "id": "5a668227",
   "metadata": {},
   "outputs": [],
   "source": [
    "import tensorflow as tf\n",
    "from tensorflow import keras"
   ]
  },
  {
   "cell_type": "code",
   "execution_count": 13,
   "id": "da63fb36",
   "metadata": {},
   "outputs": [
    {
     "data": {
      "text/plain": [
       "'2.10.0'"
      ]
     },
     "execution_count": 13,
     "metadata": {},
     "output_type": "execute_result"
    }
   ],
   "source": [
    "keras.__version__\n"
   ]
  },
  {
   "cell_type": "code",
   "execution_count": 14,
   "id": "02c24f66",
   "metadata": {},
   "outputs": [
    {
     "data": {
      "text/plain": [
       "'2.10.0'"
      ]
     },
     "execution_count": 14,
     "metadata": {},
     "output_type": "execute_result"
    }
   ],
   "source": [
    "tf.__version__\n"
   ]
  },
  {
   "cell_type": "code",
   "execution_count": 15,
   "id": "0859076d",
   "metadata": {},
   "outputs": [],
   "source": [
    "fashion_mnist=keras.datasets.fashion_mnist\n",
    "(X_train_full,y_train_full),(X_test,y_test)=fashion_mnist.load_data()"
   ]
  },
  {
   "cell_type": "code",
   "execution_count": 16,
   "id": "84b80d30",
   "metadata": {},
   "outputs": [],
   "source": [
    "import matplotlib.pyplot as plt"
   ]
  },
  {
   "cell_type": "code",
   "execution_count": null,
   "id": "4afbf573",
   "metadata": {},
   "outputs": [],
   "source": []
  },
  {
   "cell_type": "code",
   "execution_count": 17,
   "id": "bf86bd37",
   "metadata": {},
   "outputs": [
    {
     "data": {
      "text/plain": [
       "<matplotlib.image.AxesImage at 0x1a660f36f80>"
      ]
     },
     "execution_count": 17,
     "metadata": {},
     "output_type": "execute_result"
    },
    {
     "data": {
      "image/png": "[encoded data removed]",
      "text/plain": [
       "<Figure size 640x480 with 1 Axes>"
      ]
     },
     "metadata": {},
     "output_type": "display_data"
    }
   ],
   "source": [
    "plt.imshow(X_train_full[0])"
   ]
  },
  {
   "cell_type": "code",
   "execution_count": null,
   "id": "d1537323",
   "metadata": {},
   "outputs": [],
   "source": []
  },
  {
   "cell_type": "code",
   "execution_count": 18,
   "id": "bd21c9b2",
   "metadata": {},
   "outputs": [
    {
     "data": {
      "text/plain": [
       "9"
      ]
     },
     "execution_count": 18,
     "metadata": {},
     "output_type": "execute_result"
    }
   ],
   "source": [
    "y_train_full[0]"
   ]
  },
  {
   "cell_type": "code",
   "execution_count": 19,
   "id": "eb9126e6",
   "metadata": {},
   "outputs": [],
   "source": [
    "X_train_n =X_train_full/255.0\n",
    "X_test_n =X_test/255.\n"
   ]
  },
  {
   "cell_type": "code",
   "execution_count": 20,
   "id": "5b7ea65e",
   "metadata": {},
   "outputs": [],
   "source": [
    "X_valid,X_train=X_train_n[5000],X_train_n[5000:]\n",
    "y_valid,y_train=y_train_full[5000],y_train_full[5000:]\n",
    "X_test=X_test_n"
   ]
  },
  {
   "cell_type": "code",
   "execution_count": 70,
   "id": "16247a58",
   "metadata": {},
   "outputs": [
    {
     "ename": "ValueError",
     "evalue": "cannot reshape array of size 55000 into shape (784)",
     "output_type": "error",
     "traceback": [
      "\u001b[1;31m---------------------------------------------------------------------------\u001b[0m",
      "\u001b[1;31mValueError\u001b[0m                                Traceback (most recent call last)",
      "Cell \u001b[1;32mIn[70], line 3\u001b[0m\n\u001b[0;32m      1\u001b[0m X_train_flattened \u001b[38;5;241m=\u001b[39m X_train\u001b[38;5;241m.\u001b[39mreshape(\u001b[38;5;241m-\u001b[39m\u001b[38;5;241m1\u001b[39m, \u001b[38;5;241m784\u001b[39m)\n\u001b[0;32m      2\u001b[0m X_valid_flattened \u001b[38;5;241m=\u001b[39m X_valid\u001b[38;5;241m.\u001b[39mreshape(\u001b[38;5;241m-\u001b[39m\u001b[38;5;241m1\u001b[39m, \u001b[38;5;241m784\u001b[39m)\n\u001b[1;32m----> 3\u001b[0m y_train_flattened \u001b[38;5;241m=\u001b[39m \u001b[43my_train\u001b[49m\u001b[38;5;241;43m.\u001b[39;49m\u001b[43mreshape\u001b[49m\u001b[43m(\u001b[49m\u001b[38;5;241;43m-\u001b[39;49m\u001b[38;5;241;43m1\u001b[39;49m\u001b[43m,\u001b[49m\u001b[43m \u001b[49m\u001b[38;5;241;43m784\u001b[39;49m\u001b[43m)\u001b[49m\n\u001b[0;32m      4\u001b[0m y_valid_flattened \u001b[38;5;241m=\u001b[39m y_valid\u001b[38;5;241m.\u001b[39mreshape(\u001b[38;5;241m-\u001b[39m\u001b[38;5;241m1\u001b[39m, \u001b[38;5;241m784\u001b[39m)\n",
      "\u001b[1;31mValueError\u001b[0m: cannot reshape array of size 55000 into shape (784)"
     ]
    }
   ],
   "source": [
    "X_train_flattened = X_train.reshape(-1, 784)\n",
    "X_valid_flattened = X_valid.reshape(-1, 784)\n"
   ]
  },
  {
   "cell_type": "code",
   "execution_count": 71,
   "id": "fa1532b1",
   "metadata": {
    "scrolled": false
   },
   "outputs": [
    {
     "data": {
      "text/plain": [
       "array([[0.        , 0.        , 0.        , 0.        , 0.        ,\n",
       "        0.        , 0.        , 0.        , 0.        , 0.        ,\n",
       "        0.        , 0.        , 0.        , 0.        , 0.        ,\n",
       "        0.        , 0.        , 0.        , 0.        , 0.00392157,\n",
       "        0.        , 0.        , 0.        , 0.        , 0.        ,\n",
       "        0.        , 0.        , 0.        ],\n",
       "       [0.        , 0.        , 0.        , 0.        , 0.        ,\n",
       "        0.        , 0.        , 0.        , 0.        , 0.        ,\n",
       "        0.        , 0.17254902, 0.49803922, 0.71372549, 0.7254902 ,\n",
       "        0.63137255, 0.47058824, 0.21568627, 0.        , 0.        ,\n",
       "        0.        , 0.        , 0.        , 0.        , 0.        ,\n",
       "        0.        , 0.        , 0.        ],\n",
       "       [0.        , 0.        , 0.        , 0.        , 0.        ,\n",
       "        0.        , 0.        , 0.        , 0.        , 0.16470588,\n",
       "        0.77647059, 0.98431373, 1.        , 0.98431373, 0.97647059,\n",
       "        0.96862745, 1.        , 0.98823529, 0.83921569, 0.39215686,\n",
       "        0.        , 0.        , 0.        , 0.        , 0.        ,\n",
       "        0.        , 0.        , 0.        ],\n",
       "       [0.        , 0.        , 0.        , 0.        , 0.        ,\n",
       "        0.        , 0.00784314, 0.        , 0.        , 0.91372549,\n",
       "        0.98823529, 0.92941176, 0.9372549 , 0.91764706, 0.92941176,\n",
       "        0.92156863, 0.92941176, 0.92941176, 0.99607843, 0.89019608,\n",
       "        0.        , 0.        , 0.        , 0.        , 0.00392157,\n",
       "        0.        , 0.        , 0.        ],\n",
       "       [0.        , 0.        , 0.        , 0.        , 0.        ,\n",
       "        0.00784314, 0.        , 0.        , 0.0627451 , 0.82352941,\n",
       "        0.88235294, 0.84313725, 0.68627451, 0.85098039, 0.84705882,\n",
       "        0.75686275, 0.76862745, 0.88627451, 0.86666667, 0.81960784,\n",
       "        0.19607843, 0.        , 0.        , 0.00784314, 0.        ,\n",
       "        0.        , 0.        , 0.        ],\n",
       "       [0.        , 0.        , 0.        , 0.        , 0.00784314,\n",
       "        0.        , 0.        , 0.78039216, 0.89803922, 0.90980392,\n",
       "        0.90196078, 0.96078431, 0.8       , 0.85882353, 0.99215686,\n",
       "        0.96078431, 0.81176471, 0.76078431, 0.8745098 , 0.90588235,\n",
       "        0.9254902 , 0.92156863, 0.        , 0.        , 0.01176471,\n",
       "        0.        , 0.        , 0.        ],\n",
       "       [0.        , 0.        , 0.        , 0.        , 0.00392157,\n",
       "        0.        , 0.5372549 , 0.92156863, 0.8       , 0.81960784,\n",
       "        0.78823529, 0.81960784, 0.91764706, 0.74509804, 0.91764706,\n",
       "        0.85490196, 0.84313725, 0.93333333, 0.9372549 , 0.8       ,\n",
       "        0.74117647, 0.87843137, 0.60392157, 0.        , 0.        ,\n",
       "        0.        , 0.        , 0.        ],\n",
       "       [0.        , 0.        , 0.        , 0.        , 0.        ,\n",
       "        0.        , 0.76078431, 0.78823529, 0.78431373, 0.81960784,\n",
       "        0.79215686, 0.75686275, 0.80392157, 0.76078431, 0.71764706,\n",
       "        0.85490196, 0.90588235, 0.77254902, 0.6745098 , 0.70980392,\n",
       "        0.75686275, 0.80392157, 0.78039216, 0.        , 0.        ,\n",
       "        0.        , 0.        , 0.        ],\n",
       "       [0.        , 0.        , 0.        , 0.        , 0.        ,\n",
       "        0.01176471, 0.83137255, 0.79607843, 0.7372549 , 0.74117647,\n",
       "        0.76862745, 0.77647059, 0.77647059, 0.78823529, 0.76862745,\n",
       "        0.85098039, 0.70196078, 0.65490196, 0.71764706, 0.85098039,\n",
       "        0.77254902, 0.79215686, 0.85882353, 0.11764706, 0.        ,\n",
       "        0.        , 0.        , 0.        ],\n",
       "       [0.        , 0.        , 0.        , 0.        , 0.        ,\n",
       "        0.13333333, 0.88235294, 0.78431373, 0.76078431, 0.74509804,\n",
       "        0.7372549 , 0.75294118, 0.76862745, 0.75294118, 0.66666667,\n",
       "        0.79215686, 0.74509804, 0.78823529, 0.76470588, 0.78431373,\n",
       "        0.78823529, 0.81960784, 0.89019608, 0.19607843, 0.        ,\n",
       "        0.        , 0.        , 0.        ],\n",
       "       [0.        , 0.        , 0.        , 0.        , 0.        ,\n",
       "        0.26666667, 0.88235294, 0.82352941, 0.82745098, 0.77647059,\n",
       "        0.75294118, 0.76862745, 0.8       , 0.76862745, 0.70980392,\n",
       "        0.83137255, 0.77254902, 0.76470588, 0.75294118, 0.80784314,\n",
       "        0.8627451 , 0.82352941, 0.89803922, 0.36470588, 0.        ,\n",
       "        0.        , 0.        , 0.        ],\n",
       "       [0.        , 0.        , 0.        , 0.        , 0.        ,\n",
       "        0.43529412, 0.8745098 , 0.89019608, 0.99215686, 0.81960784,\n",
       "        0.76862745, 0.8       , 0.82745098, 0.80784314, 0.71764706,\n",
       "        0.84705882, 0.80784314, 0.82352941, 0.79607843, 0.84313725,\n",
       "        0.95686275, 0.87843137, 0.89019608, 0.58823529, 0.        ,\n",
       "        0.        , 0.        , 0.        ],\n",
       "       [0.        , 0.        , 0.        , 0.        , 0.        ,\n",
       "        0.54509804, 0.88235294, 0.87843137, 1.        , 0.79215686,\n",
       "        0.80784314, 0.83137255, 0.81960784, 0.82745098, 0.74509804,\n",
       "        0.83529412, 0.79215686, 0.81176471, 0.80784314, 0.87058824,\n",
       "        1.        , 0.90196078, 0.8627451 , 0.74509804, 0.        ,\n",
       "        0.        , 0.        , 0.        ],\n",
       "       [0.        , 0.        , 0.        , 0.        , 0.        ,\n",
       "        0.70588235, 0.88627451, 0.87843137, 1.        , 0.78039216,\n",
       "        0.8       , 0.81176471, 0.83921569, 0.83921569, 0.74509804,\n",
       "        0.84705882, 0.80784314, 0.79607843, 0.80392157, 0.85882353,\n",
       "        0.95294118, 0.87843137, 0.83921569, 0.91764706, 0.        ,\n",
       "        0.        , 0.        , 0.        ],\n",
       "       [0.        , 0.        , 0.        , 0.        , 0.        ,\n",
       "        0.88235294, 0.8745098 , 0.89411765, 0.99607843, 0.81960784,\n",
       "        0.80784314, 0.81568627, 0.83529412, 0.82352941, 0.74901961,\n",
       "        0.84313725, 0.81176471, 0.8       , 0.81568627, 0.82745098,\n",
       "        0.97647059, 0.88627451, 0.83921569, 1.        , 0.14901961,\n",
       "        0.        , 0.        , 0.        ],\n",
       "       [0.        , 0.        , 0.        , 0.        , 0.        ,\n",
       "        0.98039216, 0.90980392, 0.94117647, 0.9372549 , 0.82745098,\n",
       "        0.79607843, 0.81960784, 0.80392157, 0.82745098, 0.77254902,\n",
       "        0.84313725, 0.81568627, 0.81568627, 0.83921569, 0.83529412,\n",
       "        0.9372549 , 0.90588235, 0.85882353, 1.        , 0.31764706,\n",
       "        0.        , 0.        , 0.        ],\n",
       "       [0.        , 0.        , 0.        , 0.        , 0.        ,\n",
       "        0.97254902, 0.9254902 , 0.96862745, 0.94117647, 0.79607843,\n",
       "        0.78431373, 0.81568627, 0.80784314, 0.83921569, 0.75686275,\n",
       "        0.83529412, 0.83137255, 0.81568627, 0.83137255, 0.82745098,\n",
       "        0.95294118, 0.94901961, 0.88235294, 0.99607843, 0.25882353,\n",
       "        0.        , 0.        , 0.        ],\n",
       "       [0.        , 0.        , 0.        , 0.        , 0.        ,\n",
       "        0.96862745, 0.90196078, 0.98823529, 0.88627451, 0.78039216,\n",
       "        0.82745098, 0.79215686, 0.82745098, 0.83529412, 0.71372549,\n",
       "        0.83529412, 0.83137255, 0.80784314, 0.79215686, 0.85882353,\n",
       "        0.81176471, 0.96862745, 0.87058824, 0.92941176, 0.40784314,\n",
       "        0.        , 0.        , 0.        ],\n",
       "       [0.        , 0.        , 0.        , 0.        , 0.03921569,\n",
       "        0.95686275, 0.85882353, 0.98039216, 0.80392157, 0.78039216,\n",
       "        0.81960784, 0.79215686, 0.81960784, 0.82745098, 0.74117647,\n",
       "        0.83921569, 0.80784314, 0.82352941, 0.78431373, 0.83137255,\n",
       "        0.60392157, 0.94117647, 0.81568627, 0.85882353, 0.54901961,\n",
       "        0.        , 0.        , 0.        ],\n",
       "       [0.        , 0.        , 0.        , 0.        , 0.08235294,\n",
       "        1.        , 0.87058824, 0.93333333, 0.72156863, 0.82352941,\n",
       "        0.75294118, 0.80784314, 0.81960784, 0.82352941, 0.74117647,\n",
       "        0.83529412, 0.82745098, 0.81960784, 0.75294118, 0.89411765,\n",
       "        0.60784314, 0.88627451, 0.93333333, 0.94509804, 0.65098039,\n",
       "        0.        , 0.        , 0.        ],\n",
       "       [0.        , 0.        , 0.        , 0.        , 0.14509804,\n",
       "        0.96078431, 0.88627451, 0.94509804, 0.58823529, 0.77254902,\n",
       "        0.74117647, 0.8       , 0.81960784, 0.82352941, 0.71764706,\n",
       "        0.83529412, 0.83529412, 0.78823529, 0.72156863, 0.84313725,\n",
       "        0.57254902, 0.84705882, 0.9254902 , 0.88235294, 0.60392157,\n",
       "        0.        , 0.        , 0.        ],\n",
       "       [0.        , 0.        , 0.        , 0.        , 0.22745098,\n",
       "        0.9372549 , 0.89019608, 1.        , 0.61960784, 0.75686275,\n",
       "        0.76470588, 0.8       , 0.81960784, 0.83529412, 0.70588235,\n",
       "        0.81176471, 0.85098039, 0.78039216, 0.76078431, 0.82745098,\n",
       "        0.61960784, 0.85882353, 0.9254902 , 0.84705882, 0.59215686,\n",
       "        0.        , 0.        , 0.        ],\n",
       "       [0.        , 0.        , 0.        , 0.        , 0.26666667,\n",
       "        0.91372549, 0.88627451, 0.95294118, 0.54509804, 0.78431373,\n",
       "        0.75686275, 0.80392157, 0.82352941, 0.81568627, 0.70588235,\n",
       "        0.80392157, 0.83137255, 0.79607843, 0.76862745, 0.84705882,\n",
       "        0.61568627, 0.70196078, 1.        , 0.84705882, 0.60784314,\n",
       "        0.        , 0.        , 0.        ],\n",
       "       [0.        , 0.        , 0.        , 0.        , 0.31764706,\n",
       "        0.88235294, 0.87843137, 0.82745098, 0.54117647, 0.85882353,\n",
       "        0.7254902 , 0.78823529, 0.83529412, 0.81176471, 0.77254902,\n",
       "        0.88627451, 0.83137255, 0.78431373, 0.74509804, 0.84313725,\n",
       "        0.71764706, 0.35294118, 1.        , 0.82745098, 0.57647059,\n",
       "        0.        , 0.        , 0.        ],\n",
       "       [0.        , 0.        , 0.        , 0.        , 0.35686275,\n",
       "        0.82352941, 0.90196078, 0.61960784, 0.44705882, 0.80392157,\n",
       "        0.73333333, 0.81568627, 0.81960784, 0.80784314, 0.75686275,\n",
       "        0.82352941, 0.82745098, 0.8       , 0.76470588, 0.8       ,\n",
       "        0.70980392, 0.09019608, 1.        , 0.83529412, 0.61960784,\n",
       "        0.        , 0.        , 0.        ],\n",
       "       [0.        , 0.        , 0.        , 0.        , 0.34117647,\n",
       "        0.80392157, 0.90980392, 0.42745098, 0.64313725, 1.        ,\n",
       "        0.83921569, 0.87843137, 0.87058824, 0.82352941, 0.77254902,\n",
       "        0.83921569, 0.88235294, 0.87058824, 0.82745098, 0.8627451 ,\n",
       "        0.85098039, 0.        , 0.91764706, 0.84705882, 0.6627451 ,\n",
       "        0.        , 0.        , 0.        ],\n",
       "       [0.        , 0.        , 0.        , 0.        , 0.36078431,\n",
       "        0.83529412, 0.90980392, 0.57254902, 0.01960784, 0.5254902 ,\n",
       "        0.59215686, 0.63529412, 0.66666667, 0.71764706, 0.71372549,\n",
       "        0.64313725, 0.65098039, 0.69803922, 0.63529412, 0.61176471,\n",
       "        0.38431373, 0.        , 0.94117647, 0.88235294, 0.82352941,\n",
       "        0.        , 0.        , 0.        ],\n",
       "       [0.        , 0.        , 0.        , 0.        , 0.16862745,\n",
       "        0.64313725, 0.80784314, 0.55294118, 0.        , 0.        ,\n",
       "        0.        , 0.        , 0.        , 0.        , 0.        ,\n",
       "        0.        , 0.        , 0.        , 0.        , 0.        ,\n",
       "        0.        , 0.        , 0.49803922, 0.49019608, 0.29803922,\n",
       "        0.        , 0.        , 0.        ]])"
      ]
     },
     "execution_count": 71,
     "metadata": {},
     "output_type": "execute_result"
    }
   ],
   "source": [
    "X_valid\n"
   ]
  },
  {
   "cell_type": "code",
   "execution_count": 72,
   "id": "6bf2a809",
   "metadata": {},
   "outputs": [],
   "source": [
    "import numpy as np\n",
    "np.random.seed(42)\n",
    "tf.random.set_seed(42)"
   ]
  },
  {
   "cell_type": "code",
   "execution_count": 73,
   "id": "96f5bd23",
   "metadata": {},
   "outputs": [],
   "source": [
    "model=keras.models.Sequential()\n",
    "model.add(keras.layers.Flatten(input_shape=[28,28]))\n",
    "model.add(keras.layers.Dense(300,activation=\"relu\"))\n",
    "model.add(keras.layers.Dense(100,activation=\"relu\"))\n",
    "model.add(keras.layers.Dense(10,activation=\"softmax\"))"
   ]
  },
  {
   "cell_type": "code",
   "execution_count": 74,
   "id": "d868f66e",
   "metadata": {},
   "outputs": [
    {
     "name": "stdout",
     "output_type": "stream",
     "text": [
      "Model: \"sequential_4\"\n",
      "_________________________________________________________________\n",
      " Layer (type)                Output Shape              Param #   \n",
      "=================================================================\n",
      " flatten_1 (Flatten)         (None, 784)               0         \n",
      "                                                                 \n",
      " dense_9 (Dense)             (None, 300)               235500    \n",
      "                                                                 \n",
      " dense_10 (Dense)            (None, 100)               30100     \n",
      "                                                                 \n",
      " dense_11 (Dense)            (None, 10)                1010      \n",
      "                                                                 \n",
      "=================================================================\n",
      "Total params: 266,610\n",
      "Trainable params: 266,610\n",
      "Non-trainable params: 0\n",
      "_________________________________________________________________\n"
     ]
    }
   ],
   "source": [
    "model.summary()\n"
   ]
  },
  {
   "cell_type": "code",
   "execution_count": 75,
   "id": "abb256b1",
   "metadata": {},
   "outputs": [
    {
     "data": {
      "image/png": "[encoded data removed]",
      "text/plain": [
       "<IPython.core.display.Image object>"
      ]
     },
     "execution_count": 75,
     "metadata": {},
     "output_type": "execute_result"
    }
   ],
   "source": [
    "import pydot\n",
    "keras.utils.plot_model(model)"
   ]
  },
  {
   "cell_type": "code",
   "execution_count": 76,
   "id": "7c5a3ef6",
   "metadata": {},
   "outputs": [
    {
     "data": {
      "image/png": "[encoded data removed]",
      "text/plain": [
       "<IPython.core.display.Image object>"
      ]
     },
     "execution_count": 76,
     "metadata": {},
     "output_type": "execute_result"
    }
   ],
   "source": [
    "#import pydot\n",
    "\n",
    "import tensorflow as tf\n",
    "from tensorflow import keras\n",
    "#keras.utils.plot_model(model)\n",
    "from tensorflow.keras.models import Sequential\n",
    "from tensorflow.keras.layers import Dense\n",
    "\n",
    "# Define a simple Keras model\n",
    "model = Sequential()\n",
    "model.add(Dense(units=64, activation='relu', input_shape=(784,)))\n",
    "model.add(Dense(units=10, activation='softmax'))\n",
    "\n",
    "# Compile the model (you can customize the loss and optimizer)\n",
    "model.compile(loss='categorical_crossentropy', optimizer='adam', metrics=['accuracy'])\n",
    "\n",
    "# Visualize the model\n",
    "\n",
    "keras.utils.plot_model(model, to_file='model.png', show_shapes=True)\n"
   ]
  },
  {
   "cell_type": "code",
   "execution_count": 77,
   "id": "3c5e7301",
   "metadata": {},
   "outputs": [],
   "source": [
    "weights,biases=model.layers[1].get_weights()"
   ]
  },
  {
   "cell_type": "code",
   "execution_count": 78,
   "id": "6ef0cbbf",
   "metadata": {},
   "outputs": [
    {
     "data": {
      "text/plain": [
       "array([[ 2.70649165e-01, -2.26874068e-01,  2.68118888e-01,\n",
       "        -2.61241823e-01, -4.64380234e-02, -2.86104977e-02,\n",
       "         3.04071009e-02,  1.91562504e-01, -2.09939003e-01,\n",
       "        -5.52966595e-02],\n",
       "       [-1.13763347e-01,  4.03650701e-02,  2.62917727e-01,\n",
       "        -1.22158229e-01, -2.81074852e-01,  1.17549717e-01,\n",
       "         1.72392756e-01,  1.44428819e-01, -2.78358012e-01,\n",
       "        -1.69926882e-01],\n",
       "       [-7.28474110e-02,  3.90305817e-02,  2.82931060e-01,\n",
       "         1.33048326e-01, -3.86476219e-02, -1.78752661e-01,\n",
       "         5.33923209e-02,  2.34144360e-01,  5.58371842e-02,\n",
       "        -2.31416866e-01],\n",
       "       [ 1.04116440e-01,  1.89401209e-01,  3.05643976e-02,\n",
       "        -1.44434571e-02,  2.39540964e-01, -2.37323076e-01,\n",
       "         2.68193632e-01,  1.75223649e-01, -1.67469025e-01,\n",
       "         2.27204591e-01],\n",
       "       [-1.80772841e-02, -2.17425063e-01, -1.52659371e-01,\n",
       "         4.46996093e-03,  1.91016823e-01,  2.15130627e-01,\n",
       "        -5.61825484e-02, -5.67492843e-02,  2.81147629e-01,\n",
       "         1.18017673e-01],\n",
       "       [-2.33785450e-01, -2.43392766e-01, -1.68203786e-01,\n",
       "         6.15509450e-02,  1.44173294e-01, -2.23217964e-01,\n",
       "        -6.63574934e-02,  1.93437964e-01,  1.53313398e-01,\n",
       "        -1.63454533e-01],\n",
       "       [-2.68978596e-01,  2.35368937e-01,  3.20739150e-02,\n",
       "         3.48109305e-02, -2.04874888e-01, -2.76973426e-01,\n",
       "         1.62141979e-01,  1.38882786e-01,  9.95885134e-02,\n",
       "        -7.39320070e-02],\n",
       "       [-3.70463133e-02, -1.81503743e-01,  2.67169207e-01,\n",
       "         7.07173944e-02,  9.13405418e-03, -7.73802251e-02,\n",
       "         2.41160899e-01,  4.97434139e-02, -1.83290169e-01,\n",
       "         2.42591947e-01],\n",
       "       [-2.34172478e-01, -1.32211521e-01,  1.06282443e-01,\n",
       "         2.44544119e-01,  5.58429658e-02, -2.21973151e-01,\n",
       "         1.67444646e-01, -1.55712873e-01,  1.46481246e-01,\n",
       "        -1.27072796e-01],\n",
       "       [-2.58368224e-01, -2.72191316e-01,  3.69059145e-02,\n",
       "         3.42539847e-02, -1.01015538e-01,  3.18641961e-02,\n",
       "         1.05381221e-01, -2.44815111e-01,  6.79838359e-02,\n",
       "         1.02226198e-01],\n",
       "       [-8.15882683e-02,  2.33657688e-01, -3.21017504e-02,\n",
       "         6.38539493e-02,  2.72825569e-01,  2.46271580e-01,\n",
       "        -1.60482228e-02, -1.97072744e-01, -4.22422737e-02,\n",
       "         1.17361814e-01],\n",
       "       [-1.13362938e-01,  1.20700181e-01, -2.25098759e-01,\n",
       "        -1.12935305e-01,  2.45440930e-01, -1.90111399e-01,\n",
       "        -1.28695264e-01, -2.06391126e-01,  2.79573709e-01,\n",
       "        -1.18317887e-01],\n",
       "       [-2.42711425e-01,  2.32610494e-01, -1.24475628e-01,\n",
       "        -1.25132456e-01, -1.57060891e-01,  1.21152699e-02,\n",
       "         1.65602893e-01,  1.64796770e-01,  2.20966041e-02,\n",
       "        -7.12183118e-03],\n",
       "       [-2.45059043e-01, -1.65377229e-01,  1.09129101e-01,\n",
       "        -2.02019602e-01, -4.05897945e-02,  2.99371183e-02,\n",
       "         1.05676800e-01,  2.60597140e-01,  1.07959241e-01,\n",
       "         2.13589728e-01],\n",
       "       [-1.22822121e-01,  1.17932141e-01,  5.42491674e-04,\n",
       "         2.54480213e-01, -4.81918454e-03, -1.02297753e-01,\n",
       "         4.25020158e-02,  7.72680044e-02,  2.39447683e-01,\n",
       "        -1.20382667e-01],\n",
       "       [-2.45888174e-01,  1.89210504e-01,  1.65913403e-02,\n",
       "        -3.76861691e-02, -1.11867398e-01,  7.85392225e-02,\n",
       "        -1.31561950e-01, -2.59615660e-01,  1.65940493e-01,\n",
       "        -1.60955876e-01],\n",
       "       [ 1.66428030e-01, -2.21349925e-01,  2.64499187e-02,\n",
       "        -1.57322183e-01,  2.03685462e-02,  2.26981252e-01,\n",
       "        -8.38163197e-02, -2.23163322e-01,  2.35687107e-01,\n",
       "         2.58912742e-02],\n",
       "       [ 2.68557340e-01, -9.81741846e-02, -2.61321664e-01,\n",
       "         1.77611381e-01,  1.06114686e-01,  1.78238124e-01,\n",
       "         1.24217302e-01,  5.34834266e-02, -2.13715672e-01,\n",
       "         1.39871508e-01],\n",
       "       [ 1.38682425e-01,  8.70466232e-03,  1.29761606e-01,\n",
       "        -3.54808569e-02, -2.57004589e-01,  7.77283013e-02,\n",
       "        -2.41230980e-01,  1.58437073e-01, -6.10452890e-03,\n",
       "        -1.53624415e-01],\n",
       "       [-1.91114724e-01,  2.84263462e-01, -2.64258891e-01,\n",
       "        -1.91259056e-01, -1.31598890e-01, -2.25280702e-01,\n",
       "        -2.21249312e-01,  7.15015829e-02, -2.17673197e-01,\n",
       "         1.63498133e-01],\n",
       "       [-1.77296996e-01, -1.09085515e-01,  2.19326764e-01,\n",
       "         3.52628827e-02, -2.30673000e-01,  1.31177306e-02,\n",
       "        -1.89267516e-01,  4.30205464e-02,  4.02546823e-02,\n",
       "        -7.54853785e-02],\n",
       "       [-5.70410043e-02,  1.53284073e-02, -2.42945507e-01,\n",
       "        -3.18276882e-03, -1.62335515e-01,  7.56270587e-02,\n",
       "        -2.51825601e-01, -2.87096202e-02, -3.25429738e-02,\n",
       "         2.31555134e-01],\n",
       "       [ 1.39883310e-01, -3.04361582e-02, -1.41832620e-01,\n",
       "        -5.05474210e-03,  6.15462661e-02, -9.78011340e-02,\n",
       "         1.63263828e-01,  2.48685479e-03,  2.18814522e-01,\n",
       "        -2.96953619e-02],\n",
       "       [ 4.64228988e-02, -2.33151972e-01,  2.71199256e-01,\n",
       "         1.87124878e-01, -4.54401970e-03, -2.60750383e-01,\n",
       "         2.72529036e-01,  1.05875313e-01, -1.13621995e-01,\n",
       "         2.83946127e-01],\n",
       "       [ 1.44607186e-01,  2.75154203e-01,  1.80653751e-01,\n",
       "         5.05349338e-02,  1.33360624e-02, -2.20504165e-01,\n",
       "         7.85942376e-02, -2.58287907e-01, -1.07493103e-01,\n",
       "         1.90739512e-01],\n",
       "       [ 2.63439745e-01, -8.11524242e-02,  2.76878983e-01,\n",
       "        -2.23231614e-01, -5.10220975e-02,  5.81932068e-02,\n",
       "         8.95594656e-02,  1.22036368e-01, -2.56328970e-01,\n",
       "         2.83301204e-01],\n",
       "       [ 1.81572914e-01,  6.65052235e-02,  2.19983250e-01,\n",
       "         2.27723569e-01,  2.41888791e-01, -1.77742809e-01,\n",
       "        -1.42653599e-01,  7.98783600e-02, -4.63723689e-02,\n",
       "         2.04803199e-01],\n",
       "       [ 2.10573822e-01, -2.21949935e-01, -1.21415555e-02,\n",
       "         1.66598350e-01, -1.24078676e-01,  2.67442077e-01,\n",
       "         6.77022934e-02,  2.30525047e-01, -1.58284038e-01,\n",
       "         8.78386796e-02],\n",
       "       [-2.34421492e-02, -2.80969352e-01,  1.71239525e-01,\n",
       "        -2.50473380e-01, -2.41666004e-01,  4.90845442e-02,\n",
       "         3.89738381e-02,  2.71035999e-01, -2.12382406e-01,\n",
       "         2.74546951e-01],\n",
       "       [ 1.81403399e-01,  1.96088403e-01, -2.16695800e-01,\n",
       "        -2.34482944e-01, -2.05767751e-02,  2.84307390e-01,\n",
       "        -4.43253815e-02,  1.43117905e-01,  9.84306633e-02,\n",
       "         1.09307915e-01],\n",
       "       [ 1.22787356e-01, -8.72259736e-02,  2.08161205e-01,\n",
       "         1.62263811e-02,  7.44646788e-02, -1.24798164e-01,\n",
       "        -2.35185385e-01, -1.29975662e-01,  1.84667766e-01,\n",
       "         2.45474309e-01],\n",
       "       [ 5.06170094e-02, -1.68539226e-01, -2.33185172e-01,\n",
       "         2.56648511e-01,  7.48943985e-02,  2.26086408e-01,\n",
       "         1.17590845e-01, -8.34110230e-02, -2.81700253e-01,\n",
       "         8.66374373e-02],\n",
       "       [-2.60652602e-01, -1.14896685e-01,  2.68691450e-01,\n",
       "        -1.27846658e-01,  1.74074620e-01,  1.92210257e-01,\n",
       "        -2.60168165e-01,  9.22483206e-03,  2.26707190e-01,\n",
       "         1.46856964e-01],\n",
       "       [-1.22885600e-01,  1.88298941e-01, -6.64014220e-02,\n",
       "         1.87521905e-01, -1.38717875e-01,  8.54971707e-02,\n",
       "        -4.47754264e-02,  5.34816384e-02,  2.60088235e-01,\n",
       "         5.09448349e-02],\n",
       "       [-2.89793313e-02,  1.79464221e-01, -1.87147349e-01,\n",
       "         7.07200170e-03,  9.26861167e-03, -1.58804953e-01,\n",
       "         1.46804214e-01, -2.75325477e-01, -6.06890321e-02,\n",
       "        -1.09786808e-01],\n",
       "       [ 2.48145968e-01, -2.73085684e-01, -2.54949927e-03,\n",
       "         9.36535001e-03, -6.99968189e-02,  1.23018116e-01,\n",
       "         5.91129065e-03, -1.01554438e-01,  1.92239851e-01,\n",
       "         2.61161715e-01],\n",
       "       [ 2.07129121e-03,  2.42863923e-01,  2.04999745e-02,\n",
       "         3.62441540e-02, -2.22039416e-01, -1.41016454e-01,\n",
       "         6.18957579e-02,  2.29899794e-01,  9.18621123e-02,\n",
       "         1.50037140e-01],\n",
       "       [ 1.63005173e-01, -8.40366930e-02, -2.57171273e-01,\n",
       "        -2.54873008e-01,  7.04184175e-02,  2.23747939e-01,\n",
       "         2.19825894e-01, -1.89273715e-01,  1.71433896e-01,\n",
       "        -1.19135261e-01],\n",
       "       [-1.57076120e-03,  1.15365267e-01,  1.93101704e-01,\n",
       "        -3.01459432e-02,  9.84399617e-02, -2.68198282e-01,\n",
       "         1.61328197e-01,  1.77882612e-01, -1.52070493e-01,\n",
       "        -4.63251173e-02],\n",
       "       [ 2.20562965e-01, -6.32318854e-03,  2.10103959e-01,\n",
       "        -1.65896386e-01,  1.24900669e-01,  1.79749489e-01,\n",
       "        -2.45445326e-01,  2.13109225e-01,  4.29013968e-02,\n",
       "        -1.69825852e-02],\n",
       "       [ 1.85027927e-01,  5.21644652e-02, -2.02085316e-01,\n",
       "         3.31111252e-02, -4.04127985e-02,  4.75876033e-02,\n",
       "         5.75207174e-02, -9.48762000e-02,  1.51020795e-01,\n",
       "        -2.21981570e-01],\n",
       "       [-4.16479111e-02,  1.04912519e-02,  1.80787176e-01,\n",
       "        -2.03334063e-01,  1.50989830e-01,  6.23200536e-02,\n",
       "        -1.18136823e-01,  5.35233319e-02, -7.19594955e-02,\n",
       "        -2.12791160e-01],\n",
       "       [-6.43764883e-02,  2.56607383e-01,  4.13576663e-02,\n",
       "        -1.61700428e-01, -2.20670223e-01,  1.36899054e-01,\n",
       "        -2.37893403e-01,  1.17130160e-01,  1.26637697e-01,\n",
       "         1.15456492e-01],\n",
       "       [ 1.82502121e-01, -4.27182466e-02,  1.06077820e-01,\n",
       "         2.80240029e-01,  4.37089801e-03, -1.33804396e-01,\n",
       "        -2.34674111e-01,  2.11950004e-01,  1.21535093e-01,\n",
       "         1.06755912e-01],\n",
       "       [-1.36295319e-01, -2.64036059e-02, -2.42319033e-01,\n",
       "        -1.72422290e-01,  2.26971895e-01,  2.69936711e-01,\n",
       "         2.51833707e-01, -4.07451838e-02,  2.04777122e-01,\n",
       "        -2.63322890e-01],\n",
       "       [-1.10812470e-01,  2.35648453e-02,  2.67766625e-01,\n",
       "        -8.72305334e-02, -1.30648375e-01, -5.87118268e-02,\n",
       "         1.19242251e-01, -1.01492524e-01, -7.98345506e-02,\n",
       "        -1.45349070e-01],\n",
       "       [-1.40721679e-01,  1.96582645e-01, -1.26160830e-01,\n",
       "         1.42826259e-01, -2.26574272e-01, -1.40757740e-01,\n",
       "         1.66058689e-01,  9.42531228e-02, -1.58304140e-01,\n",
       "         7.14394748e-02],\n",
       "       [ 1.19974434e-01,  2.24101245e-02, -1.15524247e-01,\n",
       "         1.03717119e-01,  2.84552127e-01, -1.61952287e-01,\n",
       "         2.30323821e-01,  6.55325055e-02, -4.73055840e-02,\n",
       "         2.25168258e-01],\n",
       "       [-1.91757157e-01,  1.56733990e-02, -1.40767649e-01,\n",
       "         3.71336937e-05,  2.25769967e-01,  2.69998580e-01,\n",
       "         1.25235319e-03,  1.10695511e-01, -1.63055956e-01,\n",
       "        -8.73683393e-02],\n",
       "       [ 3.00313532e-02,  7.50643909e-02, -3.90166640e-02,\n",
       "         1.36302501e-01,  2.08302200e-01,  5.49632609e-02,\n",
       "        -2.62327582e-01, -5.04863858e-02, -1.11373916e-01,\n",
       "         2.61242718e-01],\n",
       "       [-1.03175491e-01,  2.38852471e-01,  1.51416451e-01,\n",
       "         2.72388190e-01,  1.52530104e-01, -9.59343165e-02,\n",
       "         3.55930924e-02,  1.01922333e-01,  2.34576017e-01,\n",
       "        -2.68348455e-02],\n",
       "       [ 2.94575393e-02,  4.98160422e-02,  1.41664535e-01,\n",
       "         2.50270873e-01,  1.09824479e-01, -7.31953532e-02,\n",
       "         1.79781258e-01, -1.91745684e-01, -6.37098849e-02,\n",
       "         6.85579777e-02],\n",
       "       [-1.80904567e-02, -2.93217599e-02,  2.31697828e-01,\n",
       "        -1.86028808e-01, -1.63485110e-02,  5.55838346e-02,\n",
       "         3.35507095e-02,  6.75544143e-03, -1.04500428e-01,\n",
       "        -1.25414729e-01],\n",
       "       [-2.65255421e-01,  2.15997100e-02, -1.86903566e-01,\n",
       "         2.32739061e-01, -3.49019766e-02, -1.42351359e-01,\n",
       "        -2.61302441e-01, -2.02698633e-01, -6.92226142e-02,\n",
       "         1.41573220e-01],\n",
       "       [-1.27966344e-01, -1.22546554e-01,  2.30498046e-01,\n",
       "        -2.42754072e-01, -1.51361942e-01,  1.19314820e-01,\n",
       "        -1.57785714e-02,  2.54855543e-01,  1.71799600e-01,\n",
       "        -1.96905941e-01],\n",
       "       [-2.24755853e-01, -1.19878918e-01,  2.81128496e-01,\n",
       "        -3.27340066e-02,  5.73367178e-02,  1.16893381e-01,\n",
       "         2.13075131e-01, -2.13479698e-01,  2.24483699e-01,\n",
       "        -8.68806988e-02],\n",
       "       [-1.08665004e-01, -1.14307478e-01, -1.21544376e-01,\n",
       "        -7.87362456e-03,  2.24445850e-01,  9.04321074e-02,\n",
       "         2.61650175e-01, -1.79712266e-01, -5.08664250e-02,\n",
       "        -1.74055398e-02],\n",
       "       [-1.46048874e-01, -2.73700476e-01, -1.50850058e-01,\n",
       "        -5.20404279e-02, -2.57267118e-01, -2.79449195e-01,\n",
       "         2.27719218e-01,  1.02941483e-01, -1.44085318e-01,\n",
       "        -1.59186423e-01],\n",
       "       [-6.17481619e-02,  1.79420352e-01,  1.04999393e-01,\n",
       "        -2.81400591e-01,  2.27471203e-01,  1.27225518e-02,\n",
       "        -2.22649395e-01, -1.38464913e-01, -2.72142768e-01,\n",
       "        -4.07831371e-02],\n",
       "       [ 1.66112006e-01, -3.54972929e-02, -2.59178877e-01,\n",
       "         1.68051243e-01,  1.75495744e-01, -1.02091104e-01,\n",
       "         8.31106901e-02, -1.97152704e-01, -1.42630994e-01,\n",
       "         1.33083016e-01],\n",
       "       [-2.20047414e-01, -2.80371189e-01,  2.18903929e-01,\n",
       "         2.18609124e-01, -2.83054501e-01,  1.47924364e-01,\n",
       "         2.81338543e-01,  1.39027238e-01,  2.55356759e-01,\n",
       "        -2.51329660e-01],\n",
       "       [-1.31652653e-01,  1.50746942e-01, -1.02665126e-02,\n",
       "        -2.27991521e-01,  2.37465292e-01, -6.98763877e-02,\n",
       "        -5.30714691e-02,  2.59875149e-01, -1.93325579e-02,\n",
       "        -1.15849644e-01],\n",
       "       [ 1.37419105e-02,  2.44199067e-01,  1.79927558e-01,\n",
       "         2.43924648e-01, -9.34233665e-02,  5.89339435e-02,\n",
       "        -2.41255134e-01, -2.67435938e-01,  2.01698214e-01,\n",
       "         2.51768559e-01],\n",
       "       [ 1.26352966e-01,  2.47257322e-01, -2.76950330e-01,\n",
       "         1.09394550e-01,  2.28556007e-01, -3.95033658e-02,\n",
       "         2.81328589e-01,  1.76740766e-01, -2.63578027e-01,\n",
       "         1.55202448e-02]], dtype=float32)"
      ]
     },
     "execution_count": 78,
     "metadata": {},
     "output_type": "execute_result"
    }
   ],
   "source": [
    "weights"
   ]
  },
  {
   "cell_type": "code",
   "execution_count": 79,
   "id": "197e447f",
   "metadata": {},
   "outputs": [
    {
     "data": {
      "text/plain": [
       "(64, 10)"
      ]
     },
     "execution_count": 79,
     "metadata": {},
     "output_type": "execute_result"
    }
   ],
   "source": [
    "weights.shape"
   ]
  },
  {
   "cell_type": "code",
   "execution_count": 93,
   "id": "b0fe1f6c",
   "metadata": {},
   "outputs": [
    {
     "data": {
      "text/plain": [
       "array([0., 0., 0., 0., 0., 0., 0., 0., 0., 0.], dtype=float32)"
      ]
     },
     "execution_count": 93,
     "metadata": {},
     "output_type": "execute_result"
    }
   ],
   "source": [
    "biases"
   ]
  },
  {
   "cell_type": "code",
   "execution_count": 108,
   "id": "b7232a57",
   "metadata": {},
   "outputs": [
    {
     "data": {
      "text/plain": [
       "(10,)"
      ]
     },
     "execution_count": 108,
     "metadata": {},
     "output_type": "execute_result"
    }
   ],
   "source": [
    "biases.shape\n"
   ]
  },
  {
   "cell_type": "code",
   "execution_count": 109,
   "id": "7ae5b226",
   "metadata": {},
   "outputs": [],
   "source": [
    "#X_train_flattened = X_train.reshape(-1, 784)\n",
    "#X_valid_flattened = X_valid.reshape(-1, 784)\n"
   ]
  },
  {
   "cell_type": "code",
   "execution_count": 117,
   "id": "db0771f1",
   "metadata": {},
   "outputs": [],
   "source": [
    "\n",
    "import numpy as np\n",
    "X_train = X_train.astype('float32')\n",
    "y_train = y_train.astype(np.int32)\n",
    "\n",
    "\n",
    "X_valid = X_valid.astype('float32')\n",
    "y_valid= y_valid.astype(np.int32)\n"
   ]
  },
  {
   "cell_type": "code",
   "execution_count": 118,
   "id": "3dda7228",
   "metadata": {},
   "outputs": [],
   "source": [
    "model.compile(loss=\"sparse_categorical_crossentropy\",\n",
    "             optimizer=\"sgd\",\n",
    "              \n",
    "             metrics=[\"accuracy\"])"
   ]
  },
  {
   "cell_type": "code",
   "execution_count": 116,
   "id": "1f731dbf",
   "metadata": {
    "scrolled": true
   },
   "outputs": [
    {
     "name": "stdout",
     "output_type": "stream",
     "text": [
      "Epoch 1/30\n",
      "1714/1719 [============================>.] - ETA: 0s - loss: 0.4177 - accuracy: 0.8551"
     ]
    },
    {
     "ename": "ValueError",
     "evalue": "Failed to find data adapter that can handle input: <class 'numpy.ndarray'>, <class 'numpy.int32'>",
     "output_type": "error",
     "traceback": [
      "\u001b[1;31m---------------------------------------------------------------------------\u001b[0m",
      "\u001b[1;31mValueError\u001b[0m                                Traceback (most recent call last)",
      "Cell \u001b[1;32mIn[116], line 1\u001b[0m\n\u001b[1;32m----> 1\u001b[0m model_history \u001b[38;5;241m=\u001b[39m \u001b[43mmodel\u001b[49m\u001b[38;5;241;43m.\u001b[39;49m\u001b[43mfit\u001b[49m\u001b[43m(\u001b[49m\u001b[43mX_train\u001b[49m\u001b[43m,\u001b[49m\u001b[43m \u001b[49m\u001b[43my_train\u001b[49m\u001b[43m,\u001b[49m\u001b[43m \u001b[49m\u001b[43mepochs\u001b[49m\u001b[38;5;241;43m=\u001b[39;49m\u001b[38;5;241;43m30\u001b[39;49m\u001b[43m,\u001b[49m\u001b[43m \u001b[49m\u001b[43mvalidation_data\u001b[49m\u001b[38;5;241;43m=\u001b[39;49m\u001b[43m(\u001b[49m\u001b[43mX_valid\u001b[49m\u001b[43m,\u001b[49m\u001b[43m \u001b[49m\u001b[43my_valid\u001b[49m\u001b[43m)\u001b[49m\u001b[43m)\u001b[49m\n",
      "File \u001b[1;32m~\\anaconda3\\envs\\myenv\\lib\\site-packages\\keras\\utils\\traceback_utils.py:70\u001b[0m, in \u001b[0;36mfilter_traceback.<locals>.error_handler\u001b[1;34m(*args, **kwargs)\u001b[0m\n\u001b[0;32m     67\u001b[0m     filtered_tb \u001b[38;5;241m=\u001b[39m _process_traceback_frames(e\u001b[38;5;241m.\u001b[39m__traceback__)\n\u001b[0;32m     68\u001b[0m     \u001b[38;5;66;03m# To get the full stack trace, call:\u001b[39;00m\n\u001b[0;32m     69\u001b[0m     \u001b[38;5;66;03m# `tf.debugging.disable_traceback_filtering()`\u001b[39;00m\n\u001b[1;32m---> 70\u001b[0m     \u001b[38;5;28;01mraise\u001b[39;00m e\u001b[38;5;241m.\u001b[39mwith_traceback(filtered_tb) \u001b[38;5;28;01mfrom\u001b[39;00m \u001b[38;5;28;01mNone\u001b[39;00m\n\u001b[0;32m     71\u001b[0m \u001b[38;5;28;01mfinally\u001b[39;00m:\n\u001b[0;32m     72\u001b[0m     \u001b[38;5;28;01mdel\u001b[39;00m filtered_tb\n",
      "File \u001b[1;32m~\\anaconda3\\envs\\myenv\\lib\\site-packages\\keras\\engine\\data_adapter.py:1083\u001b[0m, in \u001b[0;36mselect_data_adapter\u001b[1;34m(x, y)\u001b[0m\n\u001b[0;32m   1080\u001b[0m adapter_cls \u001b[38;5;241m=\u001b[39m [\u001b[38;5;28mcls\u001b[39m \u001b[38;5;28;01mfor\u001b[39;00m \u001b[38;5;28mcls\u001b[39m \u001b[38;5;129;01min\u001b[39;00m ALL_ADAPTER_CLS \u001b[38;5;28;01mif\u001b[39;00m \u001b[38;5;28mcls\u001b[39m\u001b[38;5;241m.\u001b[39mcan_handle(x, y)]\n\u001b[0;32m   1081\u001b[0m \u001b[38;5;28;01mif\u001b[39;00m \u001b[38;5;129;01mnot\u001b[39;00m adapter_cls:\n\u001b[0;32m   1082\u001b[0m     \u001b[38;5;66;03m# TODO(scottzhu): This should be a less implementation-specific error.\u001b[39;00m\n\u001b[1;32m-> 1083\u001b[0m     \u001b[38;5;28;01mraise\u001b[39;00m \u001b[38;5;167;01mValueError\u001b[39;00m(\n\u001b[0;32m   1084\u001b[0m         \u001b[38;5;124m\"\u001b[39m\u001b[38;5;124mFailed to find data adapter that can handle \u001b[39m\u001b[38;5;124m\"\u001b[39m\n\u001b[0;32m   1085\u001b[0m         \u001b[38;5;124m\"\u001b[39m\u001b[38;5;124minput: \u001b[39m\u001b[38;5;132;01m{}\u001b[39;00m\u001b[38;5;124m, \u001b[39m\u001b[38;5;132;01m{}\u001b[39;00m\u001b[38;5;124m\"\u001b[39m\u001b[38;5;241m.\u001b[39mformat(_type_name(x), _type_name(y))\n\u001b[0;32m   1086\u001b[0m     )\n\u001b[0;32m   1087\u001b[0m \u001b[38;5;28;01melif\u001b[39;00m \u001b[38;5;28mlen\u001b[39m(adapter_cls) \u001b[38;5;241m>\u001b[39m \u001b[38;5;241m1\u001b[39m:\n\u001b[0;32m   1088\u001b[0m     \u001b[38;5;28;01mraise\u001b[39;00m \u001b[38;5;167;01mRuntimeError\u001b[39;00m(\n\u001b[0;32m   1089\u001b[0m         \u001b[38;5;124m\"\u001b[39m\u001b[38;5;124mData adapters should be mutually exclusive for \u001b[39m\u001b[38;5;124m\"\u001b[39m\n\u001b[0;32m   1090\u001b[0m         \u001b[38;5;124m\"\u001b[39m\u001b[38;5;124mhandling inputs. Found multiple adapters \u001b[39m\u001b[38;5;132;01m{}\u001b[39;00m\u001b[38;5;124m to handle \u001b[39m\u001b[38;5;124m\"\u001b[39m\n\u001b[0;32m   1091\u001b[0m         \u001b[38;5;124m\"\u001b[39m\u001b[38;5;124minput: \u001b[39m\u001b[38;5;132;01m{}\u001b[39;00m\u001b[38;5;124m, \u001b[39m\u001b[38;5;132;01m{}\u001b[39;00m\u001b[38;5;124m\"\u001b[39m\u001b[38;5;241m.\u001b[39mformat(adapter_cls, _type_name(x), _type_name(y))\n\u001b[0;32m   1092\u001b[0m     )\n",
      "\u001b[1;31mValueError\u001b[0m: Failed to find data adapter that can handle input: <class 'numpy.ndarray'>, <class 'numpy.int32'>"
     ]
    }
   ],
   "source": [
    "model_history = model.fit(X_train, y_train, epochs=30, validation_data=(X_valid, y_valid))\n"
   ]
  },
  {
   "cell_type": "code",
   "execution_count": null,
   "id": "72e37825",
   "metadata": {},
   "outputs": [],
   "source": [
    "model_history.paras"
   ]
  },
  {
   "cell_type": "code",
   "execution_count": null,
   "id": "1e1756a2",
   "metadata": {},
   "outputs": [],
   "source": [
    "model_history.history"
   ]
  },
  {
   "cell_type": "code",
   "execution_count": null,
   "id": "ce1d916a",
   "metadata": {},
   "outputs": [],
   "source": [
    "import pandas as pd"
   ]
  },
  {
   "cell_type": "code",
   "execution_count": null,
   "id": "8c3c47d7",
   "metadata": {},
   "outputs": [],
   "source": []
  },
  {
   "cell_type": "code",
   "execution_count": null,
   "id": "11261b05",
   "metadata": {},
   "outputs": [],
   "source": []
  },
  {
   "cell_type": "code",
   "execution_count": null,
   "id": "6f328e41",
   "metadata": {},
   "outputs": [],
   "source": []
  },
  {
   "cell_type": "code",
   "execution_count": null,
   "id": "e7da0f0b",
   "metadata": {},
   "outputs": [],
   "source": []
  },
  {
   "cell_type": "code",
   "execution_count": null,
   "id": "b4103bb8",
   "metadata": {},
   "outputs": [],
   "source": []
  },
  {
   "cell_type": "code",
   "execution_count": null,
   "id": "c1718333",
   "metadata": {},
   "outputs": [],
   "source": []
  }
 ],
 "metadata": {
  "kernelspec": {
   "display_name": "Python 3 (ipykernel)",
   "language": "python",
   "name": "python3"
  },
  "language_info": {
   "codemirror_mode": {
    "name": "ipython",
    "version": 3
   },
   "file_extension": ".py",
   "mimetype": "text/x-python",
   "name": "python",
   "nbconvert_exporter": "python",
   "pygments_lexer": "ipython3",
   "version": "3.10.12"
  }
 },
 "nbformat": 4,
 "nbformat_minor": 5
}
